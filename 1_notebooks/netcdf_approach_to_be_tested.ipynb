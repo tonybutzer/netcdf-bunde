{
 "cells": [
  {
   "cell_type": "code",
   "execution_count": 1,
   "id": "07828ade-87dd-4560-ae6f-ab4ef8697e2a",
   "metadata": {},
   "outputs": [
    {
     "ename": "FileNotFoundError",
     "evalue": "[Errno 2] No such file or directory: 'a.nc'",
     "output_type": "error",
     "traceback": [
      "\u001b[0;31m---------------------------------------------------------------------------\u001b[0m",
      "\u001b[0;31mFileNotFoundError\u001b[0m                         Traceback (most recent call last)",
      "Cell \u001b[0;32mIn[1], line 44\u001b[0m\n\u001b[1;32m     41\u001b[0m os\u001b[38;5;241m.\u001b[39mmakedirs(output_folder, exist_ok\u001b[38;5;241m=\u001b[39m\u001b[38;5;28;01mTrue\u001b[39;00m)\n\u001b[1;32m     43\u001b[0m \u001b[38;5;66;03m# Convert NetCDF to GeoTIFF\u001b[39;00m\n\u001b[0;32m---> 44\u001b[0m \u001b[43mconvert_netcdf_to_geotiff\u001b[49m\u001b[43m(\u001b[49m\u001b[43minput_nc_file\u001b[49m\u001b[43m,\u001b[49m\u001b[43m \u001b[49m\u001b[43moutput_folder\u001b[49m\u001b[43m)\u001b[49m\n",
      "Cell \u001b[0;32mIn[1], line 8\u001b[0m, in \u001b[0;36mconvert_netcdf_to_geotiff\u001b[0;34m(input_file, output_folder)\u001b[0m\n\u001b[1;32m      6\u001b[0m \u001b[38;5;28;01mdef\u001b[39;00m \u001b[38;5;21mconvert_netcdf_to_geotiff\u001b[39m(input_file, output_folder):\n\u001b[1;32m      7\u001b[0m     \u001b[38;5;66;03m# Open the NetCDF file\u001b[39;00m\n\u001b[0;32m----> 8\u001b[0m     nc_dataset \u001b[38;5;241m=\u001b[39m \u001b[43mnc\u001b[49m\u001b[38;5;241;43m.\u001b[39;49m\u001b[43mDataset\u001b[49m\u001b[43m(\u001b[49m\u001b[43minput_file\u001b[49m\u001b[43m,\u001b[49m\u001b[43m \u001b[49m\u001b[38;5;124;43m'\u001b[39;49m\u001b[38;5;124;43mr\u001b[39;49m\u001b[38;5;124;43m'\u001b[39;49m\u001b[43m)\u001b[49m\n\u001b[1;32m     10\u001b[0m     \u001b[38;5;28;01mfor\u001b[39;00m variable_name \u001b[38;5;129;01min\u001b[39;00m nc_dataset\u001b[38;5;241m.\u001b[39mvariables:\n\u001b[1;32m     11\u001b[0m         \u001b[38;5;66;03m# Skip dimensions and auxiliary variables\u001b[39;00m\n\u001b[1;32m     12\u001b[0m         \u001b[38;5;28;01mif\u001b[39;00m variable_name \u001b[38;5;129;01mnot\u001b[39;00m \u001b[38;5;129;01min\u001b[39;00m nc_dataset\u001b[38;5;241m.\u001b[39mdimensions:\n\u001b[1;32m     13\u001b[0m             \u001b[38;5;66;03m# Extract variable data\u001b[39;00m\n",
      "File \u001b[0;32msrc/netCDF4/_netCDF4.pyx:2469\u001b[0m, in \u001b[0;36mnetCDF4._netCDF4.Dataset.__init__\u001b[0;34m()\u001b[0m\n",
      "File \u001b[0;32msrc/netCDF4/_netCDF4.pyx:2028\u001b[0m, in \u001b[0;36mnetCDF4._netCDF4._ensure_nc_success\u001b[0;34m()\u001b[0m\n",
      "\u001b[0;31mFileNotFoundError\u001b[0m: [Errno 2] No such file or directory: 'a.nc'"
     ]
    }
   ],
   "source": [
    "import netCDF4 as nc\n",
    "import rasterio\n",
    "from rasterio.transform import from_origin\n",
    "from rasterio.enums import Resampling\n",
    "\n",
    "def convert_netcdf_to_geotiff(input_file, output_folder):\n",
    "    # Open the NetCDF file\n",
    "    nc_dataset = nc.Dataset(input_file, 'r')\n",
    "\n",
    "    for variable_name in nc_dataset.variables:\n",
    "        # Skip dimensions and auxiliary variables\n",
    "        if variable_name not in nc_dataset.dimensions:\n",
    "            # Extract variable data\n",
    "            variable_data = nc_dataset.variables[variable_name][:]\n",
    "\n",
    "            # Define GeoTIFF output file path\n",
    "            output_file = f\"{output_folder}/{variable_name}.tif\"\n",
    "\n",
    "            # Get the geospatial information from the NetCDF file\n",
    "            lon = nc_dataset.variables['lon'][:]\n",
    "            lat = nc_dataset.variables['lat'][:]\n",
    "            transform = from_origin(lon.min(), lat.max(), abs(lon[1] - lon[0]), abs(lat[1] - lat[0]))\n",
    "\n",
    "            # Write GeoTIFF file\n",
    "            with rasterio.open(output_file, 'w', driver='GTiff',\n",
    "                               height=variable_data.shape[0], width=variable_data.shape[1],\n",
    "                               count=1, dtype=str(variable_data.dtype), crs='EPSG:4326',\n",
    "                               transform=transform) as dst:\n",
    "                dst.write(variable_data, 1)\n",
    "\n",
    "    # Close the NetCDF file\n",
    "    nc_dataset.close()\n",
    "\n",
    "if __name__ == \"__main__\":\n",
    "    # Specify the input NetCDF file and output folder\n",
    "    input_nc_file = 'a.nc'\n",
    "    output_folder = 'output_geotiffs'\n",
    "\n",
    "    # Create the output folder if it doesn't exist\n",
    "    import os\n",
    "    os.makedirs(output_folder, exist_ok=True)\n",
    "\n",
    "    # Convert NetCDF to GeoTIFF\n",
    "    convert_netcdf_to_geotiff(input_nc_file, output_folder)\n"
   ]
  },
  {
   "cell_type": "code",
   "execution_count": null,
   "id": "fbb16d85-3045-46a8-8508-cf1a1e998212",
   "metadata": {},
   "outputs": [],
   "source": []
  }
 ],
 "metadata": {
  "kernelspec": {
   "display_name": "Python 3 (ipykernel)",
   "language": "python",
   "name": "python3"
  },
  "language_info": {
   "codemirror_mode": {
    "name": "ipython",
    "version": 3
   },
   "file_extension": ".py",
   "mimetype": "text/x-python",
   "name": "python",
   "nbconvert_exporter": "python",
   "pygments_lexer": "ipython3",
   "version": "3.11.6"
  }
 },
 "nbformat": 4,
 "nbformat_minor": 5
}
