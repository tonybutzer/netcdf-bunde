{
 "cells": [
  {
   "cell_type": "code",
   "execution_count": 1,
   "id": "c30377f1-81d7-4fad-afac-58e4ac84a5de",
   "metadata": {},
   "outputs": [],
   "source": [
    "import xarray\n",
    "import rioxarray"
   ]
  },
  {
   "cell_type": "code",
   "execution_count": 10,
   "id": "ddb57d0b-4d63-4a82-adf5-1744589dc899",
   "metadata": {},
   "outputs": [
    {
     "name": "stdout",
     "output_type": "stream",
     "text": [
      "total 1.0G\n",
      "-rwxrwx--- 1 ec2-user ec2-user 550M Jan 10 16:51 EMIT_L2A_RFL_001_20230415T204729_2310514_003.nc\n"
     ]
    }
   ],
   "source": [
    "! ls -lh /data/bunde"
   ]
  },
  {
   "cell_type": "code",
   "execution_count": 6,
   "id": "e5ee5dbe-3126-468b-befd-533b931e0ee1",
   "metadata": {},
   "outputs": [],
   "source": [
    "nc_file = 'EMIT_L2A_RFL_001_20230415T204729_2310514_003.nc'"
   ]
  },
  {
   "cell_type": "code",
   "execution_count": 7,
   "id": "ea8a0001-3455-4f2d-b16b-8b2bbf222760",
   "metadata": {},
   "outputs": [
    {
     "data": {
      "text/plain": [
       "'EMIT_L2A_RFL_001_20230415T204729_2310514_003.nc'"
      ]
     },
     "execution_count": 7,
     "metadata": {},
     "output_type": "execute_result"
    }
   ],
   "source": [
    "nc_file"
   ]
  },
  {
   "cell_type": "code",
   "execution_count": null,
   "id": "b6d10f8e-4dcb-4c38-97cf-94bce7d32eef",
   "metadata": {},
   "outputs": [],
   "source": [
    "#See docs for rioxarray.open_rasterio\n",
    "\n",
    "rds = rioxarray.open_rasterio(nc_file)\n",
    "rds"
   ]
  }
 ],
 "metadata": {
  "kernelspec": {
   "display_name": "Python 3 (ipykernel)",
   "language": "python",
   "name": "python3"
  },
  "language_info": {
   "codemirror_mode": {
    "name": "ipython",
    "version": 3
   },
   "file_extension": ".py",
   "mimetype": "text/x-python",
   "name": "python",
   "nbconvert_exporter": "python",
   "pygments_lexer": "ipython3",
   "version": "3.11.6"
  }
 },
 "nbformat": 4,
 "nbformat_minor": 5
}
